{
 "cells": [
  {
   "cell_type": "code",
   "execution_count": 6,
   "id": "caf6a59f-496f-47fa-929c-0c8033b63ad9",
   "metadata": {},
   "outputs": [
    {
     "name": "stdout",
     "output_type": "stream",
     "text": [
      "The F-Test value is :0.5925925925925926 and The P_value is :0.7467752136187429\n"
     ]
    }
   ],
   "source": [
    "# Q1. Write a Python function that takes in two arrays of data and calculates the F-value for a variance ratio\n",
    "# test. The function should return the F-value and the corresponding p-value for the test.\n",
    "\n",
    "import numpy as np\n",
    "import scipy.stats as stat\n",
    "\n",
    "def variance_ratio(random_1,random_2):\n",
    "    F_test = np.var(random_1)/np.var(random_2)\n",
    "    \n",
    "    significance_value = 0.05\n",
    "    df1 = len(random_1) - 1\n",
    "    df2 = len(random_2) - 1\n",
    "    p_value = 1 - stat.f.cdf(F_test,df1,df2)\n",
    "    \n",
    "    return F_test, p_value\n",
    "    \n",
    "random_1 = np.array([2,3,4,5,6,7,8,9])\n",
    "random_2 = np.array([10,11,12,13,14,15,16,20])\n",
    "\n",
    "F_test, p_value = variance_ratio(random_1,random_2)\n",
    "print(\"The F-Test value is :{} and The P_value is :{}\".format(F_test,p_value))"
   ]
  },
  {
   "cell_type": "code",
   "execution_count": 3,
   "id": "5ad0049d-0eb8-464f-9523-e3b446a23345",
   "metadata": {},
   "outputs": [
    {
     "name": "stdout",
     "output_type": "stream",
     "text": [
      "The critical F-value for a two-tailed test :5.987565126046928\n"
     ]
    }
   ],
   "source": [
    "# Q2. Given a significance level of 0.05 and the degrees of freedom for the numerator and denominator of an\n",
    "# F-distribution, write a Python function that returns the critical F-value for a two-tailed test.\n",
    "\n",
    "import numpy as np\n",
    "import scipy.stats as stat\n",
    "\n",
    "def func(significance_value,dfn,dfd):\n",
    "    critical_value = stat.f.ppf(1-significance_value/2,dfn,dfd)\n",
    "    return critical_value\n",
    "    \n",
    "significance_value = 0.05\n",
    "dfn = 5\n",
    "dfd = 6\n",
    "critical_value = func(significance_value,dfn,dfd)\n",
    "print(\"The critical F-value for a two-tailed test :{}\".format(critical_value))"
   ]
  },
  {
   "cell_type": "code",
   "execution_count": 9,
   "id": "e3abbda7-4cde-4a87-8a2f-9ab21d2c5961",
   "metadata": {},
   "outputs": [
    {
     "name": "stdout",
     "output_type": "stream",
     "text": [
      "The f_value is:0.26989224915732085. The p_value is:0.9999999998389234. The DOF numerator is:99. The DOF denumerator is:99\n"
     ]
    }
   ],
   "source": [
    "# Q3. Write a Python program that generates random samples from two normal distributions with known\n",
    "# variances and uses an F-test to determine if the variances are equal. The program should output the F-\n",
    "# value, degrees of freedom, and p-value for the test.\n",
    "\n",
    "import numpy as np\n",
    "import scipy.stats as stat\n",
    "\n",
    "def normal_dis(random_1,random_2):\n",
    "    dof1 = len(random_1) - 1\n",
    "    dof2 = len(random_2) - 1\n",
    "    \n",
    "    f_value = np.var(random_1)/np.var(random_2)\n",
    "    p_value = 1 - stat.f.cdf(f_value,dof1,dof2)\n",
    "    \n",
    "    return f_value, p_value, dof1, dof2\n",
    "    \n",
    "random_1 = np.random.normal(loc=15, scale=5, size=100)\n",
    "random_2 = np.random.normal(loc=30, scale=10, size=100)\n",
    "\n",
    "f_value, p_value, dof1, dof2 = normal_dis(random_1,random_2)\n",
    "print(\"The f_value is:{}. The p_value is:{}. The DOF numerator is:{}. The DOF denumerator is:{}\".format(f_value, p_value, dof1, dof2))"
   ]
  },
  {
   "cell_type": "code",
   "execution_count": 2,
   "id": "dc2c32e1-7dc6-4cc6-94dd-85ec303f1f6a",
   "metadata": {},
   "outputs": [
    {
     "name": "stdout",
     "output_type": "stream",
     "text": [
      "The F test is : 1.5\n",
      "The critical value is : 2.8179304699530863\n",
      "The variances are not significantly different.\n"
     ]
    }
   ],
   "source": [
    "# Q4.The variances of two populations are known to be 10 and 15. A sample of 12 observations is taken from\n",
    "# each population. Conduct an F-test at the 5% significance level to determine if the variances are\n",
    "# significantly different.\n",
    "\n",
    "import scipy.stats as stats\n",
    "\n",
    "def population(population_var_1, population_var_2, sample_size1, sample_size2, significance_value):\n",
    "    f_test = max(population_var_1, population_var_2) / min(population_var_1, population_var_2)\n",
    "    \n",
    "    dof1 = sample_size1 - 1\n",
    "    dof2 = sample_size2 - 1\n",
    "    \n",
    "    critical_value = stats.f.ppf(1 - significance_value, dof1, dof2)\n",
    "    \n",
    "    return f_test, critical_value\n",
    "\n",
    "population_var_1 = 10\n",
    "population_var_2 = 15\n",
    "sample_size1 = 12\n",
    "sample_size2 = 12\n",
    "significance_value = 0.05\n",
    "\n",
    "f_test, critical_value = population(population_var_1, population_var_2, sample_size1, sample_size2, significance_value)\n",
    "print(\"The F test is :\",f_test)\n",
    "print(\"The critical value is :\",critical_value)\n",
    "\n",
    "if f_test > critical_value:\n",
    "    print(\"The variances are significantly different.\")\n",
    "else:\n",
    "    print(\"The variances are not significantly different.\")"
   ]
  },
  {
   "cell_type": "code",
   "execution_count": 14,
   "id": "0834507a-9024-4ed0-9e4c-a0e4b9bad8c0",
   "metadata": {},
   "outputs": [
    {
     "name": "stdout",
     "output_type": "stream",
     "text": [
      "The F test is : 1.2\n",
      "The critical value is : nan\n",
      "The claim is not justified\n"
     ]
    }
   ],
   "source": [
    "# Q5. A manufacturer claims that the variance of the diameter of a certain product is 0.005. A sample of 25\n",
    "# products is taken, and the sample variance is found to be 0.006. Conduct an F-test at the 1% significance\n",
    "# level to determine if the claim is justified.\n",
    "\n",
    "import numpy as np\n",
    "import scipy.stats as stat\n",
    "\n",
    "def maufacturer(population_var,sample_var,significnce_value,sample_size):\n",
    "    f_test = sample_var / population_var \n",
    "    \n",
    "    dof1 = sample_size - 1\n",
    "    dof2 = 0\n",
    "    \n",
    "    critical_value = stats.f.ppf(1 - significance_value, dof1, dof2)\n",
    "    \n",
    "    return f_test, critical_value\n",
    "    \n",
    "population_var = 0.005\n",
    "sample_var = 0.006\n",
    "sample_size = 25\n",
    "significnce_value = 0.01\n",
    "\n",
    "f_test, critical_value = maufacturer(population_var,sample_var,significnce_value,sample_size)\n",
    "print(\"The F test is :\",f_test)\n",
    "print(\"The critical value is :\",critical_value)\n",
    "\n",
    "if f_test > critical_value:\n",
    "    print(\"The claim is justified\")\n",
    "else:\n",
    "     print(\"The claim is not justified\")"
   ]
  },
  {
   "cell_type": "code",
   "execution_count": 4,
   "id": "c4839929-ccc7-414e-85d7-159b83c3f2e7",
   "metadata": {},
   "outputs": [
    {
     "name": "stdout",
     "output_type": "stream",
     "text": [
      "The Mean and variance is : (1.2, 0.81)\n"
     ]
    }
   ],
   "source": [
    "# Q6. Write a Python function that takes in the degrees of freedom for the numerator and denominator of an\n",
    "# F-distribution and calculates the mean and variance of the distribution. The function should return the\n",
    "# mean and variance as a tuple.\n",
    "\n",
    "import scipy.stats as stat\n",
    "\n",
    "def f_dist_mean_var(numerator_dof,denominator_dof):\n",
    "    f_dist = stat.f(numerator_dof,denominator_dof)\n",
    "    \n",
    "    mean = f_dist.mean()\n",
    "    var = f_dist.var()\n",
    "    \n",
    "    return mean, var\n",
    "    \n",
    "numerator_dof = 8\n",
    "denominator_dof = 12\n",
    "mean, var = f_dist_mean_var(numerator_dof,denominator_dof)\n",
    "\n",
    "print(\"The Mean and variance is :\",(mean,var))"
   ]
  },
  {
   "cell_type": "code",
   "execution_count": 5,
   "id": "4f7366b4-72f4-4c75-97c4-f0f757712c4f",
   "metadata": {},
   "outputs": [
    {
     "name": "stdout",
     "output_type": "stream",
     "text": [
      "The F test is : 1.25\n",
      "The Critical_Value is : 4.029680336895874\n",
      "The variances are not significantly different\n"
     ]
    }
   ],
   "source": [
    "# Q7. A random sample of 10 measurements is taken from a normal population with unknown variance. The\n",
    "# sample variance is found to be 25. Another random sample of 15 measurements is taken from another\n",
    "# normal population with unknown variance, and the sample variance is found to be 20. Conduct an F-test\n",
    "# at the 10% significance level to determine if the variances are significantly different.\n",
    "\n",
    "import scipy.stats as stat\n",
    "\n",
    "def func(sample_size1,sample_variance1,sample_size2,sample_variance2):\n",
    "    F_test = sample_variance1/sample_variance2\n",
    "    \n",
    "    significance_value = 0.01\n",
    "    df1 = sample_size1 - 1\n",
    "    df2 = sample_size2 - 1\n",
    "    \n",
    "    critical_value = stat.f.ppf(1-significance_value, df1, df2)\n",
    "    \n",
    "    return F_test, critical_value\n",
    "\n",
    "sample_size1 = 10\n",
    "sample_variance1 = 25\n",
    "sample_size2 = 15\n",
    "sample_variance2 = 20\n",
    "F_test, critical_value = func(sample_size1,sample_variance1,sample_size2,sample_variance2)\n",
    "print(\"The F test is :\",F_test)\n",
    "print(\"The Critical_Value is :\",critical_value)\n",
    "\n",
    "if F_test > critical_value:\n",
    "    print(\"The variances are significantly different\")\n",
    "else:\n",
    "    print(\"The variances are not significantly different\")    "
   ]
  },
  {
   "cell_type": "code",
   "execution_count": 10,
   "id": "fa833529-b7bd-4338-8661-9ce28549ecce",
   "metadata": {},
   "outputs": [
    {
     "name": "stdout",
     "output_type": "stream",
     "text": [
      "The F test is : 1.496767651159843\n",
      "The Critical_Value is : 4.950288068694318\n",
      "The variances are not significantly different\n"
     ]
    }
   ],
   "source": [
    "# Q8. The following data represent the waiting times in minutes at two different restaurants on a Saturday\n",
    "# night: Restaurant A: 24, 25, 28, 23, 22, 20, 27; Restaurant B: 31, 33, 35, 30, 32, 36. Conduct an F-test at the 5%\n",
    "# significance level to determine if the variances are significantly different.\n",
    "\n",
    "import numpy as np\n",
    "import scipy.stats as stat\n",
    "\n",
    "def saturday_var(Restaurant_A, Restaurant_B):\n",
    "    F_Test = np.var(Restaurant_A)/np.var(Restaurant_B)\n",
    "    \n",
    "    significance_value = 0.05\n",
    "    df1 = len(Restaurant_A) - 1\n",
    "    df2 = len(Restaurant_B) - 1\n",
    "    \n",
    "    critical_value = stat.f.ppf(1-significance_value,df1,df2)\n",
    "    \n",
    "    return F_Test, critical_value\n",
    "\n",
    "Restaurant_A = [24, 25, 28, 23, 22, 20, 27]\n",
    "Restaurant_B = [31, 33, 35, 30, 32, 36]\n",
    "\n",
    "F_Test, critical_value = saturday_var(Restaurant_A, Restaurant_B)\n",
    "print(\"The F test is :\",F_Test)\n",
    "print(\"The Critical_Value is :\",critical_value)\n",
    "\n",
    "if F_Test > critical_value:\n",
    "    print(\"The variances are significantly different\")\n",
    "else:\n",
    "    print(\"The variances are not significantly different\") "
   ]
  },
  {
   "cell_type": "code",
   "execution_count": 14,
   "id": "72f4f452-143f-41b2-af28-2f2229eae1d6",
   "metadata": {},
   "outputs": [
    {
     "name": "stdout",
     "output_type": "stream",
     "text": [
      "The F test is : 1.496767651159843\n",
      "The Critical_Value is : 10.672254792434334\n",
      "The variances are not significantly different\n"
     ]
    }
   ],
   "source": [
    "# Q9. The following data represent the test scores of two groups of students: Group A: 80, 85, 90, 92, 87, 83;\n",
    "# Group B: 75, 78, 82, 79, 81, 84. Conduct an F-test at the 1% significance level to determine if the variances\n",
    "# are significantly different.\n",
    "\n",
    "import numpy as np\n",
    "import scipy.stats as stat\n",
    "\n",
    "def test_two_groups(Group_A, Group_B,significance_value):\n",
    "    F_Test = np.var(Group_A)/np.var(Group_B)\n",
    "    \n",
    "    df1 = len(Group_A) - 1\n",
    "    df2 = len(Group_B) - 1\n",
    "    \n",
    "    critical_value = stat.f.ppf(1-significance_value,df1,df2)\n",
    "    \n",
    "    return F_Test, critical_value\n",
    "\n",
    "Group_A = [80, 85, 90, 92, 87, 83]\n",
    "Group_B = [75, 78, 82, 79, 81, 84]\n",
    "significance_value = 0.01\n",
    "\n",
    "F_Test, critical_value = test_two_groups(Restaurant_A, Restaurant_B,significance_value)\n",
    "print(\"The F test is :\",F_Test)\n",
    "print(\"The Critical_Value is :\",critical_value)\n",
    "\n",
    "if F_Test > critical_value:\n",
    "    print(\"The variances are significantly different\")\n",
    "else:\n",
    "    print(\"The variances are not significantly different\") "
   ]
  },
  {
   "cell_type": "code",
   "execution_count": null,
   "id": "cd95e75b-d039-4335-8105-4661b3d86aee",
   "metadata": {},
   "outputs": [],
   "source": []
  }
 ],
 "metadata": {
  "kernelspec": {
   "display_name": "Python 3 (ipykernel)",
   "language": "python",
   "name": "python3"
  },
  "language_info": {
   "codemirror_mode": {
    "name": "ipython",
    "version": 3
   },
   "file_extension": ".py",
   "mimetype": "text/x-python",
   "name": "python",
   "nbconvert_exporter": "python",
   "pygments_lexer": "ipython3",
   "version": "3.10.8"
  }
 },
 "nbformat": 4,
 "nbformat_minor": 5
}
